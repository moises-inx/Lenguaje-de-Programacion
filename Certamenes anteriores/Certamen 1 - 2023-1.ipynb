{
 "cells": [
  {
   "cell_type": "markdown",
   "id": "66c7f7b5",
   "metadata": {},
   "source": [
    "# Certamen 1 - 2023-1\n",
    "\n",
    "### Lenguaje de Programación"
   ]
  },
  {
   "cell_type": "markdown",
   "id": "bad77e5f",
   "metadata": {},
   "source": [
    "### Problema 1 \n",
    "\n",
    "Para su tarea de matemáticas, Euclides necesita que, dado dos puntos del espacio bidimensional, $a = (a_x , a_y) , b=(b_x, b_y)$, se calcule el punto medio según la fórmula:\n",
    "\n",
    "```math\n",
    "\\frac{a+b}{2} = \\left ( \\frac{a_x + b_x}{2} , \\frac{a_y +b_y}{2}  \\right)\n",
    "```\n",
    "\n",
    "e identificar a qué cuadrante del plano pertenece dicho punto medio. Considere que un punto $p = (p_x , p_y) $ se encuentra en el primer cuadrante si $p_x > 0$ y $p_y < 0$ el punto *p* se  encuentra en el segundo cuadrante si $p_x > 0$  y $p_y < 0$, el punto *p* se encuentra en el tercer cuadrante si $p_x < 0$ y $p_y < 0$, el punto *p* se encuentra en el cuarto cuadrante si $p_x < 0$ y $p_y > 0$, en otro caso, el punto p se encuentra en un eje.\n",
    "\n",
    "<ins>**Entrada**:</ins> La entrada al programa consiste en 4 números enteros sin restricción de valor, correspondientes a las coordenadas $a_x,a_y,b_x,b_y$.\n",
    "\n",
    "<ins>**Salida**:</ins> La salida del programa es uno de los siguientes mensajes El punto medio es ($p_x, p_y$) - C cuadrante o El punto medio es ($p_x,p_y$) - Eje."
   ]
  },
  {
   "cell_type": "code",
   "execution_count": null,
   "id": "8ad3bc4f",
   "metadata": {},
   "outputs": [],
   "source": [
    "a_x = int(input(\"Ingrese valor de la coordenada a_x: \"))\n",
    "a_y = int(input(\"Ingrese valor de la coordenada a_y: \"))\n",
    "b_x = int(input(\"Ingrese valor de la coordenada b_x: \"))\n",
    "b_y = int(input(\"Ingrese valor de la coordenada b_y: \"))\n",
    "\n",
    "def cuadrante(a_x, a_y, b_x, b_y):\n",
    "    p_x = (a_x + b_x) / 2\n",
    "    p_y = (a_y + b_y) / 2\n",
    "    if p_x > 0 and p_y > 0:\n",
    "        return p_x, p_y, \"1\"\n",
    "    elif p_x < 0 and p_y > 0:\n",
    "        return p_x, p_y, \"2\"\n",
    "    elif p_x < 0 and p_y < 0:\n",
    "        return p_x, p_y, \"3\"\n",
    "    elif p_x > 0 and p_y < 0:\n",
    "        return p_x, p_y, \"4\"\n",
    "    else:\n",
    "        return p_x, p_y, \"Eje\"\n",
    "p_x, p_y, cuadrante = cuadrante(a_x, a_y, b_x, b_y)\n",
    "if cuadrante == \"1\":\n",
    "    print(f\"El punto medio es ({p_x}, {p_y}) - 1 cuadrante\")\n",
    "elif cuadrante == \"2\":\n",
    "    print(f\"El punto medio es ({p_x}, {p_y}) - 2 cuadrante\")\n",
    "elif cuadrante == \"3\":\n",
    "    print(f\"El punto medio es ({p_x}, {p_y}) - 3 cuadrante\")\n",
    "elif cuadrante == \"4\":\n",
    "    print(f\"El punto medio es ({p_x}, {p_y}) - 4 cuadrante\")\n",
    "else:\n",
    "    print(f\"El punto medio es ({p_x}, {p_y}) - Eje\")"
   ]
  },
  {
   "cell_type": "markdown",
   "id": "ae0bd02d",
   "metadata": {},
   "source": [
    "### Problema 2 \n",
    "\n",
    "En el supermercado, el reponedor coloca las latas de conserva apiladas triangularmente, esto es, en último piso una lata, en el penúltimo piso dos latas, en el antepenúltimo piso tres, y así sucesivamente. Sin embargo, no todo número de latas se puede apilar triangularmente. Realice un programa en Python, en el que dada una cantidad de latas n, introducido por el usuario, compruebe si se \n",
    "pueden apilar.\n",
    "\n",
    "<ins>**Entrada**:</ins> La única entrada al programa contiene un entero *n* ($n \\leq 1 $) que representa la cantidad de latas. Se debe validar la entrada, esto significa que si su valor está fuera de rango se debe repetir sucesivamente hasta que el ingreso sea correcto. \n",
    "\n",
    "<ins>**Salida**:</ins> La única salida puede ser uno de los siguientes mensajes Las *n* latas se pueden apilar en *q* filas o No apilables. Las *n* latas se pueden apilar en *q* filas pero sobran *s* latas."
   ]
  },
  {
   "cell_type": "code",
   "execution_count": null,
   "id": "f2943ced",
   "metadata": {},
   "outputs": [],
   "source": [
    "def validar_entrada(minimo, maximo, texto):\n",
    "    while True:\n",
    "        try:\n",
    "            valor = int(input(texto))\n",
    "            if minimo <= valor <= maximo:\n",
    "                return valor\n",
    "            else:\n",
    "                print(f\"Error: El valor debe estar entre {minimo} y {maximo}.\")\n",
    "        except ValueError:\n",
    "            print(\"Error: Debe ingresar un número entero.\")\n",
    "\n",
    "cantidad_de_latas = validar_entrada(1, float(\"inf\"), \"Ingrese la cantidad de latas: \")\n",
    "\n",
    "def apilables(cantidad_de_latas):\n",
    "    filas = 0\n",
    "    total_latas = 0\n",
    "    while total_latas < cantidad_de_latas:\n",
    "        filas += 1\n",
    "        total_latas += filas\n",
    "    if total_latas == cantidad_de_latas:\n",
    "        return filas, 0\n",
    "    else:\n",
    "        return filas - 1, cantidad_de_latas - (total_latas - filas)\n",
    "\n",
    "apilables_result = apilables(cantidad_de_latas)\n",
    "\n",
    "if apilables_result[1] == 0:\n",
    "    print(f\"Las {cantidad_de_latas} latas se pueden apilar en {apilables_result[0]} filas.\")\n",
    "else:\n",
    "    print(f\"Las {cantidad_de_latas} latas se pueden apilar en {apilables_result[0]} filas pero sobran {apilables_result[1]} latas.\")"
   ]
  }
 ],
 "metadata": {
  "kernelspec": {
   "display_name": "base",
   "language": "python",
   "name": "python3"
  },
  "language_info": {
   "name": "python",
   "version": "3.12.7"
  }
 },
 "nbformat": 4,
 "nbformat_minor": 5
}
