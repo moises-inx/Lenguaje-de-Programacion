{
 "cells": [
  {
   "cell_type": "markdown",
   "id": "2a6b1531",
   "metadata": {},
   "source": [
    "# Programación nivel certamen"
   ]
  },
  {
   "cell_type": "markdown",
   "id": "dc02123a",
   "metadata": {},
   "source": [
    "### Ejercicio de referencia\n",
    "\n",
    "Ud. es parte de un grupo de amigos que se conocieron en la UdeC. Uno de sus amigos a tomado la valiente desición de casarse y como se estila hace un tiempo, su amigo, el novio, ha contratado una lista de regalos de matrimonio en una de las tiendas de retail de la ciudad. La lista consta de diferentes tipos de regalo: cocinas, televisores, muebles, electrodomésticos, ropa de cama, etc. Para cada producto de la lista hay diferentes modelos y precios. Con su grupo de amigos (menos el novio, obviamente) han decidido poner una cuota y juntar un monto que les permita comprar uno de los modelos de cada producto, pero quieren saber cu ́anto deben poner cada uno si compran el modelo más barato de cada producto y cu ́anto deben poner si compran el modelo más caro de cada producto. Como saben que Ud. estudio ingenier ́ıa y que sabe programar (y Ud. no es el novio :D) le han pedido que haga un programa en Python que les permita resolver la situación\n",
    "\n",
    "<ins>**Entrada**:</ins> La entrada a este programa está compuesta por varias linéas. La primera contiene un número entero positivo menor o igual que 200, correspondiente a la cantidad de casos de prueba que ejecutará el programa. Cada caso de prueba estará compuesto por dos valores: un número entero positivo correspondiente a la cantidad de amigos que harán los regalos y un número *C*, (1 ≤C ≤20), correspondiente a la cantidad de productos de la lista de novios en la tienda. Luego habrá *C* líneas, una por cada producto, cada una con varios números, el primero un valor *M* , (1 ≤ *M* ≤20), indicando la cantidad de modelos del producto y luego habrá *M* valores indicando el precio de cada modelo.\n",
    "\n",
    "<ins>**Salida**:</ins> La salida a este programa estará compuesta por una línea por cada caso de prueba, cada línea contendrá dos números el valor de la cuota de cada amigo para comprar el modelo más barato de cada producto y el valor de la cuota de cada amigo para comprar el modelo más caro de cada producto."
   ]
  },
  {
   "cell_type": "code",
   "execution_count": null,
   "id": "991b424c",
   "metadata": {},
   "outputs": [],
   "source": [
    "casos_de_prueba = int(input(\"Ingrese la cantidad de casos de prueba: \"))\n",
    "\n",
    "while True:\n",
    "    if casos_de_prueba >=200:\n",
    "        print(\"El número de casos de prueba no puede ser mayor a 200\")\n",
    "        casos_de_prueba = int(input(\"Ingrese la cantidad de casos de prueba: \"))\n",
    "    else:\n",
    "        for i in range(casos_de_prueba):\n",
    "            cantidad_de_amigos_que_haran_regalo = int(input(\"Ingrese la cantidad de amigos que harán un regalo: \"))\n",
    "            \n",
    "            cantidad_de_productos = int(input(\"Ingrese la cantidad de productos: \"))\n",
    "            while True:\n",
    "                if cantidad_de_productos >= 20 or cantidad_de_productos <= 0:\n",
    "                    print(\"El número de productos no puede ser mayor a 20 o menor a 0\")\n",
    "                    cantidad_de_productos = int(input(\"Ingrese la cantidad de productos: \"))\n",
    "                else:\n",
    "                    break\n",
    "            precios = []\n",
    "            for j in range(cantidad_de_productos):\n",
    "                cantidad_de_modelos= int(input(f\"Ingrese la cantidad de modelos del producto {j+1}: \"))\n",
    "                while True:\n",
    "                    if cantidad_de_modelos >= 20 or cantidad_de_modelos <= 1:\n",
    "                        print(\"La cantidad de modelos no puede ser mayor a 20 o menor a 1\")\n",
    "                        cantidad_de_modelos = int(input(f\"Ingrese la cantidad de modelos del producto {j+1}: \"))\n",
    "                    else:\n",
    "                        break\n",
    "                for k in range(cantidad_de_modelos):\n",
    "                    precio = int(input(f\"Ingrese el precio del producto {k+1}: \"))\n",
    "                    while True:\n",
    "                        if cantidad_de_modelos >= 20 or cantidad_de_modelos <= 1:\n",
    "                            print(\"El precio no puede ser mayor a 20 o menor a 1\")\n",
    "                            precio = int(input(f\"Ingrese el precio del modelo {k+1} del producto {j+1}: \"))\n",
    "                        else:\n",
    "                            break\n",
    "                    precios.append(precio)\n",
    "            precio_minimo = min(precios)\n",
    "            precio_maximo = max(precios)\n",
    "            cuota_minima = precio_minimo / cantidad_de_amigos_que_haran_regalo\n",
    "            cuota_maxima = precio_maximo / cantidad_de_amigos_que_haran_regalo\n",
    "            print(f\"El precio mínimo es: {precio_minimo}\")\n",
    "            print(f\"El precio máximo es: {precio_maximo}\")\n",
    "            print(f\"La cuota para el modelo más barato es: {cuota_minima}\")\n",
    "            print(f\"La cuota para el modelo más caro es es: {cuota_maxima}\")"
   ]
  },
  {
   "cell_type": "markdown",
   "id": "ddcb59e0",
   "metadata": {},
   "source": [
    "### Problema 1\n",
    "\n",
    "Martín es un prodigioso estudiantes a quien las matemáticas le fascinan, siempre está pensando en operaciones raras con la ilusión de encontrar una relación numérica que se convierta en un nuevo descubrimiento.\n",
    "\n",
    "Lo que en la actualidad le tiene inquieto es saber si existe alguna relación entre la cantidad de ceros y de otros dígitos presentes en el factorial de un número. Hasta ahora ha realizado experimentos con los números más pequeños.\n",
    "\n",
    "A Martín le interesa tener un cuadro más completo de resultados de esta operación para establecer, si es que la hay, alguna relación.\n",
    "\n",
    "Escriba un programa en Python que, dado un números entero calcule la cantidad de ceros y de dígitos distintos de cero de su factorial.\n",
    "\n",
    "<ins>**Entrada**: </ins>La ́unica entrada al programa es un número entero mayor o igual a cero.\n",
    "\n",
    "<ins>**Salida**: </ins>El programa tiene dos salidas, la cantidad de ceros y la cantidad de dígitos distintos de cero del factorial del número ingresado"
   ]
  },
  {
   "cell_type": "code",
   "execution_count": null,
   "id": "99839cc6",
   "metadata": {},
   "outputs": [],
   "source": [
    "import sys\n",
    "cantidad_de_numeros= int(input(\"Ingrese la cantidad de números a evaluar: \"))\n",
    "\n",
    "for i in range(cantidad_de_numeros):\n",
    "    numero_factorial = int(input(\"Ingrese un número entero: \"))\n",
    "    while True:\n",
    "        if numero_factorial < 0:\n",
    "            print(\"El número debe ser mayor o igual a 0\")\n",
    "            numero_factorial = int(input(\"Ingrese un número entero: \"))\n",
    "        else:\n",
    "            break\n",
    "    factorial_del_numero = 1\n",
    "    for i in range(1, numero_factorial + 1):\n",
    "        factorial_del_numero *= i\n",
    "    factorial_str = str(factorial_del_numero)\n",
    "    cantidad_de_ceros = factorial_str.count('0')\n",
    "    sys.set_int_max_str_digits(100000)  \n",
    "    cantidad_de_digitos_distintos_de_cero = len(set(factorial_str)) - 1  \n",
    "    print(f\"El factorial de {numero_factorial} es: {factorial_del_numero}\")\n",
    "    print(f\"La cantidad de ceros en el factorial es: {cantidad_de_ceros}\")\n",
    "    print(f\"La cantidad de dígitos distintos de cero en el factorial es: {cantidad_de_digitos_distintos_de_cero}\")"
   ]
  },
  {
   "cell_type": "markdown",
   "id": "bae819cc",
   "metadata": {},
   "source": [
    "### Problema 2\n",
    "\n",
    "Dados dos números enteros *N* (2 ≤ *N* ≤ 1009) y *K* (1 ≤ *K* ≤ 50) realizar *K* operaciones sucesivas bajo el siguiente algoritmo: si el último dígito de *N* es diferente de cero restarle 1 a *N* sino (el último dígito de *N* es cero) entonces dividir *N* por 10.\n",
    "\n",
    "<ins>**Entrada**:</ins> La entrada está compuesta por dos números enteros, *K* y *N*\n",
    "\n",
    "<ins>**Salida**:</ins> La única salida del programa es el valor final que toma *N* "
   ]
  },
  {
   "cell_type": "code",
   "execution_count": null,
   "id": "956d51b0",
   "metadata": {},
   "outputs": [],
   "source": [
    "N = int(input(\"Ingrese un número entero:\"))\n",
    "\n",
    "while True:\n",
    "    if N < 2 or N > 1009:\n",
    "        print(\"El número debe ser mayor o igual a 2 y menor o igual a 1009\")\n",
    "        N = int(input(\"Ingrese un número entero:\"))\n",
    "    else:\n",
    "        break\n",
    "K = int(input(\"Ingrese otro número entero:\"))\n",
    "while True:\n",
    "        if K < 1 or K > 50:\n",
    "            print(\"El número debe ser mayor o igual a 1 y menor o igual a 50\")\n",
    "            K = int(input(\"Ingrese otro número entero:\"))\n",
    "        else:\n",
    "            break\n",
    "for i in range(K):\n",
    "    if N % 10 != 0:\n",
    "        N -= 1\n",
    "    else:\n",
    "        N //= 10\n",
    "print(f\"El resultado es: {N}\")"
   ]
  },
  {
   "cell_type": "markdown",
   "id": "f3bcbe38",
   "metadata": {},
   "source": [
    "### Problema 3\n",
    "\n",
    "Implemente un programa Python que calcule la operación potencia (*x*<sup>*y*</sup>) usando sólo sumas. Los valores ingresados será *x* e *y*, ambos números enteros.\n",
    "\n",
    "<ins>**Entrada**:</ins> *x*, *x* > 0 e *y*, *y* ≥ 0.\n",
    "\n",
    "<ins>**Salida**:</ins> La salida está compuesta por un único valor entero correspondiente a *x*<sup>*y*</sup>."
   ]
  },
  {
   "cell_type": "code",
   "execution_count": null,
   "id": "e1a97b42",
   "metadata": {},
   "outputs": [],
   "source": [
    "def multiplicar(a, b):\n",
    "    resultado = 0\n",
    "    for i in range(b):\n",
    "        resultado += a\n",
    "    return resultado\n",
    "\n",
    "def potencia(x, y):\n",
    "    if y == 0:\n",
    "        return 1\n",
    "    resultado = x\n",
    "    for k in range(y - 1):\n",
    "        resultado = multiplicar(resultado, x)\n",
    "    return resultado\n",
    "\n",
    "# Entrada del usuario\n",
    "x = int(input(\"Ingrese el valor de base (entero > 0): \"))\n",
    "y = int(input(\"Ingrese el valor de exponente (entero ≥ 0): \"))\n",
    "\n",
    "# Validación (opcional)\n",
    "if x <= 0 or y < 0:\n",
    "    print(\"Entradas no válidas. x debe ser > 0 e y ≥ 0.\")\n",
    "else:\n",
    "    print(f\"Resultado de {x}^{y} usando solo sumas: {potencia(x, y)}\")"
   ]
  },
  {
   "cell_type": "markdown",
   "id": "f00f2079",
   "metadata": {},
   "source": [
    "### Problema 4\n",
    "\n",
    "Construya un programa Python que efecúe la multiplicación de 2 enteros usando el método de multiplicación Egipcia."
   ]
  },
  {
   "cell_type": "code",
   "execution_count": null,
   "id": "7d8677be",
   "metadata": {},
   "outputs": [],
   "source": [
    "def multiplicacion_egipcia(a, b):\n",
    "    resultado = 0\n",
    "    while a >= 1:\n",
    "        if a % 2 != 0:\n",
    "            resultado += b\n",
    "        a = a // 2     \n",
    "        b = b * 2       \n",
    "    return resultado\n",
    "\n",
    "# Entrada del usuario\n",
    "x = int(input(\"Ingrese el primer número (entero > 0): \"))\n",
    "y = int(input(\"Ingrese el segundo número (entero > 0): \"))\n",
    "\n",
    "while True:\n",
    "    if x <= 0 or y <= 0:\n",
    "        print(\"Ambos números deben ser mayores que cero.\")\n",
    "        x = int(input(\"Ingrese el primer número (entero > 0): \"))\n",
    "        y = int(input(\"Ingrese el segundo número (entero > 0): \"))\n",
    "    else:\n",
    "        resultado = multiplicacion_egipcia(x, y)\n",
    "        print(f\"Resultado usando multiplicación egipcia: {resultado}\")"
   ]
  }
 ],
 "metadata": {
  "kernelspec": {
   "display_name": "base",
   "language": "python",
   "name": "python3"
  },
  "language_info": {
   "name": "python",
   "version": "3.12.7"
  }
 },
 "nbformat": 4,
 "nbformat_minor": 5
}
