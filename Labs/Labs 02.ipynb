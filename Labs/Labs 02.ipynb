{
 "cells": [
  {
   "cell_type": "markdown",
   "metadata": {},
   "source": [
    "### Problema 1\n",
    "\n",
    "Los promedios de notas de un curso de programación de computadores se calculan teniendo en cuenta 3 certámenes con ponderaciones 25 % el primero, 35 % el segundo y 40 % el  último. Este promedio, al que llamaremos promedio de certámenes, se pondera en un 50 % para el cálculo de la nota final, el resto del cálculo de la nota final se completa con la nota de una tarea semestral (40 %), una autoevaluación del alumno (4 %) y una nota de desempeño puesta por el profesor (6 %). Todas las notas ingresadas son números reales que deben estar en el rango de 1.0 a 7.0. Construya un programa Python que lea las notas de los 3 certámenes, de la tarea semestral, de autoevaluación y de desempeño de un alumno/a y que calcule y despliegue la nota promedio de certámenes y el promedio final. El programa debe indicar “APROBADO” si la nota final obtenida es mayor o igual que 4.0, en caso contrario el programa debe desplegar “REPROBADO”."
   ]
  },
  {
   "cell_type": "code",
   "execution_count": null,
   "metadata": {},
   "outputs": [],
   "source": [
    "while True:\n",
    "    notas = float(input(\"Ingrese sus notas: \"))\n",
    "    if notas < 1.0 or notas > 7.0:\n",
    "        print(\"Nota fuera de rango. Por favor, ingrese una nota entre 1.0 y 7.0.\")\n",
    "        continue\n",
    "    certamen1 = float(input(\"Ingrese la nota del primer certamen: \"))\n",
    "    certamen2 = float(input(\"Ingrese la nota del segundo certamen: \"))\n",
    "    certamen3 = float(input(\"Ingrese la nota del tercer certamen: \"))\n",
    "    tarea = float(input(\"Ingrese la nota de la tarea semestral: \"))\n",
    "    autoevaluacion = float(input(\"Ingrese la nota de la autoevaluación: \"))\n",
    "    desempeño = float(input(\"Ingrese la nota de desempeño: \"))\n",
    "\n",
    "    if not (1.0 <= certamen1 <= 7.0 and 1.0 <= certamen2 <= 7.0 and 1.0 <= certamen3 <= 7.0 and\n",
    "            1.0 <= tarea <= 7.0 and 1.0 <= autoevaluacion <= 7.0 and 1.0 <= desempeño <= 7.0):\n",
    "        print(\"Una o más notas están fuera de rango. Por favor, ingrese notas entre 1.0 y 7.0.\")\n",
    "        continue\n",
    "\n",
    "    promedio_certamenes = (certamen1 * 0.25) + (certamen2 * 0.35) + (certamen3 * 0.40)\n",
    "    nota_final = (promedio_certamenes * 0.50) + (tarea * 0.40) + (autoevaluacion * 0.04) + (desempeño * 0.06)\n",
    "\n",
    "    print(f\"Promedio de certámenes: {promedio_certamenes:.2f}\")\n",
    "    print(f\"Nota final: {nota_final:.2f}\")\n",
    "\n",
    "    if nota_final >= 4.0:\n",
    "        print(\"APROBADO\")\n",
    "    else:\n",
    "        print(\"REPROBADO\")\n",
    "    break"
   ]
  },
  {
   "cell_type": "markdown",
   "metadata": {},
   "source": [
    "### Problema 3\n",
    "\n",
    "Una empresa decidió aumentar el salario de sus empleados haciendo un análisis por tramo de ingresos. A aquellos empleados que ganan $1 millón o más, no se les aplicará reajuste. A los que ganan menos de $1 millón y $500 mil o más se les reajustará su salario en un 5 %. Finalmente, a los que ganan menos de $500 mil se les aumentará un 10 %. Escriba un programa Python que reciba como entrada el sueldo de un empleado y determine el nuevo salario, tomando en cuenta las consideraciones anteriores."
   ]
  },
  {
   "cell_type": "code",
   "execution_count": null,
   "metadata": {},
   "outputs": [],
   "source": [
    "sueldo= float"
   ]
  }
 ],
 "metadata": {
  "kernelspec": {
   "display_name": "Python 3",
   "language": "python",
   "name": "python3"
  },
  "language_info": {
   "codemirror_mode": {
    "name": "ipython",
    "version": 3
   },
   "file_extension": ".py",
   "mimetype": "text/x-python",
   "name": "python",
   "nbconvert_exporter": "python",
   "pygments_lexer": "ipython3",
   "version": "3.12.7"
  }
 },
 "nbformat": 4,
 "nbformat_minor": 2
}
