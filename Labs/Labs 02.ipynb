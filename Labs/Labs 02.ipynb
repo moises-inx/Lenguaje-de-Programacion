{
 "cells": [
  {
   "cell_type": "markdown",
   "metadata": {},
   "source": [
    "### Problema 1\n",
    "\n",
    "Los promedios de notas de un curso de programación de computadores se calculan teniendo en cuenta 3 certámenes con ponderaciones 25 % el primero, 35 % el segundo y 40 % el  último. Este promedio, al que llamaremos promedio de certámenes, se pondera en un 50 % para el cálculo de la nota final, el resto del cálculo de la nota final se completa con la nota de una tarea semestral (40 %), una autoevaluación del alumno (4 %) y una nota de desempeño puesta por el profesor (6 %). Todas las notas ingresadas son números reales que deben estar en el rango de 1.0 a 7.0. Construya un programa Python que lea las notas de los 3 certámenes, de la tarea semestral, de autoevaluación y de desempeño de un alumno/a y que calcule y despliegue la nota promedio de certámenes y el promedio final. El programa debe indicar “APROBADO” si la nota final obtenida es mayor o igual que 4.0, en caso contrario el programa debe desplegar “REPROBADO”."
   ]
  },
  {
   "cell_type": "code",
   "execution_count": null,
   "metadata": {},
   "outputs": [],
   "source": [
    "while True:\n",
    "    notas = float(input(\"Ingrese sus notas: \"))\n",
    "    if notas < 1.0 or notas > 7.0:\n",
    "        print(\"Nota fuera de rango. Por favor, ingrese una nota entre 1.0 y 7.0.\")\n",
    "        continue\n",
    "    certamen1 = float(input(\"Ingrese la nota del primer certamen: \"))\n",
    "    certamen2 = float(input(\"Ingrese la nota del segundo certamen: \"))\n",
    "    certamen3 = float(input(\"Ingrese la nota del tercer certamen: \"))\n",
    "    tarea = float(input(\"Ingrese la nota de la tarea semestral: \"))\n",
    "    autoevaluacion = float(input(\"Ingrese la nota de la autoevaluación: \"))\n",
    "    desempeño = float(input(\"Ingrese la nota de desempeño: \"))\n",
    "\n",
    "    if not (1.0 <= certamen1 <= 7.0 and 1.0 <= certamen2 <= 7.0 and 1.0 <= certamen3 <= 7.0 and\n",
    "            1.0 <= tarea <= 7.0 and 1.0 <= autoevaluacion <= 7.0 and 1.0 <= desempeño <= 7.0):\n",
    "        print(\"Una o más notas están fuera de rango. Por favor, ingrese notas entre 1.0 y 7.0.\")\n",
    "        continue\n",
    "\n",
    "    promedio_certamenes = (certamen1 * 0.25) + (certamen2 * 0.35) + (certamen3 * 0.40)\n",
    "    nota_final = (promedio_certamenes * 0.50) + (tarea * 0.40) + (autoevaluacion * 0.04) + (desempeño * 0.06)\n",
    "\n",
    "    print(f\"Promedio de certámenes: {promedio_certamenes:.2f}\")\n",
    "    print(f\"Nota final: {nota_final:.2f}\")\n",
    "\n",
    "    if nota_final >= 4.0:\n",
    "        print(\"APROBADO\")\n",
    "    else:\n",
    "        print(\"REPROBADO\")\n",
    "    break"
   ]
  },
  {
   "cell_type": "markdown",
   "metadata": {},
   "source": [
    "### Problema 2\n",
    "\n",
    "Mismo problema que el anterior, pero con la condición que se la nota del trabajo final es menor o igual a 1.0, el estudiante tiene NCR, entonces el programa se detiene.\n"
   ]
  },
  {
   "cell_type": "code",
   "execution_count": null,
   "metadata": {},
   "outputs": [],
   "source": [
    "while True:\n",
    "    notas = float(input(\"Ingrese sus notas: \"))\n",
    "    if notas < 1.0 or notas > 7.0:\n",
    "        print(\"Nota fuera de rango. Por favor, ingrese una nota entre 1.0 y 7.0.\")\n",
    "        continue\n",
    "    certamen1 = float(input(\"Ingrese la nota del primer certamen: \"))\n",
    "    certamen2 = float(input(\"Ingrese la nota del segundo certamen: \"))\n",
    "    certamen3 = float(input(\"Ingrese la nota del tercer certamen: \"))\n",
    "    tarea = float(input(\"Ingrese la nota de la tarea semestral: \"))\n",
    "    autoevaluacion = float(input(\"Ingrese la nota de la autoevaluación: \"))\n",
    "    desempeño = float(input(\"Ingrese la nota de desempeño: \"))\n",
    "\n",
    "    if not (1.0 <= certamen1 <= 7.0 and 1.0 <= certamen2 <= 7.0 and 1.0 <= certamen3 <= 7.0 and\n",
    "            1.0 <= tarea <= 7.0 and 1.0 <= autoevaluacion <= 7.0 and 1.0 <= desempeño <= 7.0):\n",
    "        print(\"Una o más notas están fuera de rango. Por favor, ingrese notas entre 1.0 y 7.0.\")\n",
    "        continue\n",
    "    elif tarea <=1.0:\n",
    "        promedio_certamenes = (certamen1 * 0.25) + (certamen2 * 0.35) + (certamen3 * 0.40)\n",
    "        print(f\"Promedio de certámenes: {promedio_certamenes:.2f}\")\n",
    "        print(\"NCR\")\n",
    "        break\n",
    "    else:\n",
    "        promedio_certamenes = (certamen1 * 0.25) + (certamen2 * 0.35) + (certamen3 * 0.40)\n",
    "        nota_final = (promedio_certamenes * 0.50) + (tarea * 0.40) + (autoevaluacion * 0.04) + (desempeño * 0.06)\n",
    "        print(f\"Promedio de certámenes: {promedio_certamenes:.2f}\")\n",
    "        print(f\"Nota final: {nota_final:.2f}\")\n",
    "    if nota_final >= 4.0:\n",
    "        print(\"APROBADO\")\n",
    "    else:\n",
    "        print(\"REPROBADO\")\n",
    "    break"
   ]
  },
  {
   "cell_type": "markdown",
   "metadata": {},
   "source": [
    "### Problema 3\n",
    "\n",
    "Una empresa decidió aumentar el salario de sus empleados haciendo un análisis por tramo de ingresos. A aquellos empleados que ganan $1 millón o más, no se les aplicará reajuste. A los que ganan menos de $1 millón y $500 mil o más se les reajustará su salario en un 5 %. Finalmente, a los que ganan menos de $500 mil se les aumentará un 10 %. Escriba un programa Python que reciba como entrada el sueldo de un empleado y determine el nuevo salario, tomando en cuenta las consideraciones anteriores."
   ]
  },
  {
   "cell_type": "code",
   "execution_count": null,
   "metadata": {},
   "outputs": [],
   "source": [
    "salario = float(input(\"Ingrese el salario del empleado: \"))\n",
    "\n",
    "if salario >= 1000000:\n",
    "    nuevo_salario = salario\n",
    "    print(\"El nuevo salario es: $\", nuevo_salario)\n",
    "elif salario >= 500000 and salario < 1000000:\n",
    "    nuevo_salario = salario * 1.05\n",
    "    print(\"El nuevo salario es: $\", nuevo_salario)\n",
    "else:\n",
    "    nuevo_salario = salario * 1.10\n",
    "    print(\"El nuevo salario es: $\", nuevo_salario)"
   ]
  },
  {
   "cell_type": "markdown",
   "metadata": {},
   "source": [
    "### Problema 4\n",
    "\n",
    "Luego de siglos de hostilidades entre cuatro naciones viviendo en el territorio de Nlogonia, negociaciones entre diplomáticos, políticos y fuerzas armadas de cada nación han permitido llegar a un acuerdo que permitirá poner fin a la disputa. La solución pasa por dividir la tierra en cuatro territorios independientes. Para ello se definió un “punto de división”, con coordenadas establecidas en las negociaciones, el cual define la división país de la siguiente manera: Dos líneas perpendiculares, ambas conteniendo el punto de división, una en la dirección Norte-Sur y otra en la dirección Este-Oeste. El territorio más occidental y al norte será Nlogonia Noroeste, y luego siguiendo el orden de los punteros del reloj se encontrarán Nlogonia Noreste, Nlogonia Sudeste y Nlogonia Sudoeste.\n",
    "\n",
    "La ONU, que estuvo involucrada como mediadora, determinó que debería existir una página en Internet que ayude a los habitantes del territorio a determinar en qué país residen y Ud. ha sido contratado para implementar un programa en Python."
   ]
  },
  {
   "cell_type": "code",
   "execution_count": null,
   "metadata": {},
   "outputs": [],
   "source": [
    "def determinar_territorio(N, M, X, Y):\n",
    "    if X == N or Y == M:\n",
    "        return \"Frontera\"\n",
    "    elif X < N and Y > M:\n",
    "        return \"Nlogonia Noroccidental\"\n",
    "    elif X > N and Y > M:\n",
    "        return \"Nlogonia Nororiental\"\n",
    "    elif X > N and Y < M:\n",
    "        return \"Nlogonia Sudoriental\"\n",
    "    elif X < N and Y < M:\n",
    "        return \"Nlogonia Sudoccidental\"\n",
    "\n",
    "def main():\n",
    "    # Entrada\n",
    "    N, M = map(int, input(\"Ingrese puntos de división, separados con un espacio: \").split())  # Punto de división\n",
    "    X, Y = map(int, input(\"Ingrese puntos de recidencia, separados con un espacio: \").split())  # Residencia\n",
    "\n",
    "    # Salida\n",
    "    resultado = determinar_territorio(N, M, X, Y)\n",
    "    print(resultado)\n",
    "\n",
    "if __name__ == \"__main__\":\n",
    "    main()"
   ]
  },
  {
   "cell_type": "markdown",
   "metadata": {},
   "source": [
    "### Problema 5\n",
    "\n",
    "Marcela Kuviyos es una destacada académica que ahora está postulando a alcalde por Las Marquesas. Entre sus propuestas plantea cobrar peaje por circular en vehículo por su comuna. El cobro se hará en función de la longitud del vehículo, la que será medida automáticamente por sensores de distancia apuntando al suelo dispuesto en pórticos en las calles. Cuando el sensor detecta que la distancia entre el pórtico y el suelo ha disminuido (e.d, detecta el paso de un vehículo) envía una señal de encendido. Además del sensor de distancia, se ha instalado otro sensor que mide la velocidad (en metros por segundo) con la que el carro atraviesa el pórtico. Se puede asumir que la velocidad con la que el carro atraviesa el pórtico es constante. Construya un programa en Python que, dados el tiempo que pasa encendido, el sensor de distancia y la velocidad a la que cruza un vehículo, calcule y despliegue el largo de cada auto y el total recaudado por peajes después de un día."
   ]
  },
  {
   "cell_type": "code",
   "execution_count": null,
   "metadata": {},
   "outputs": [],
   "source": [
    "def validacion():\n",
    "    while True:\n",
    "        try:\n",
    "            vehiculos = int(input(\"Ingrese la cantidad de vehículos que cruzan el pórtico (entre 1 y 1000): \"))\n",
    "            if 1 <= vehiculos <= 1000:\n",
    "                return vehiculos\n",
    "            else:\n",
    "                print(\"Número fuera de rango. Intente nuevamente.\")\n",
    "        except ValueError:\n",
    "            print(\"Entrada inválida. Por favor, ingrese un número entero.\")\n",
    "\n",
    "def tiempo_vehiculo():\n",
    "    while True:\n",
    "        try:\n",
    "            tiempo = int(input(\"Ingrese el tiempo de cruce (entre 1 y 10 segundos): \"))\n",
    "            if 1 <= tiempo <= 10:\n",
    "                return tiempo\n",
    "            else:\n",
    "                print(\"Número fuera de rango. Intente nuevamente.\")\n",
    "        except ValueError:\n",
    "            print(\"Entrada inválida. Por favor, ingrese un número entero.\")\n",
    "\n",
    "def velocidad_vehiculo():\n",
    "    while True:\n",
    "        try:\n",
    "            velocidad = int(input(\"Ingrese la velocidad de cruce (entre 1 y 14 m/s): \"))\n",
    "            if 1 <= velocidad <= 14:\n",
    "                return velocidad\n",
    "            else:\n",
    "                print(\"Número fuera de rango. Intente nuevamente.\")\n",
    "        except ValueError:\n",
    "            print(\"Entrada inválida. Por favor, ingrese un número entero.\")\n",
    "\n",
    "for i in range(validacion()):\n",
    "    tiempo = tiempo_vehiculo()\n",
    "    velocidad = velocidad_vehiculo()\n",
    "    longitud = velocidad * tiempo\n",
    "    print(f\"La longitud del vehículo es: {longitud} metros\")\n",
    "    recaudacion = longitud * 2\n",
    "    print(f\"La recaudación por este vehículo es: ${recaudacion}\")"
   ]
  }
 ],
 "metadata": {
  "kernelspec": {
   "display_name": "Python 3",
   "language": "python",
   "name": "python3"
  },
  "language_info": {
   "codemirror_mode": {
    "name": "ipython",
    "version": 3
   },
   "file_extension": ".py",
   "mimetype": "text/x-python",
   "name": "python",
   "nbconvert_exporter": "python",
   "pygments_lexer": "ipython3",
   "version": "3.12.7"
  }
 },
 "nbformat": 4,
 "nbformat_minor": 2
}
