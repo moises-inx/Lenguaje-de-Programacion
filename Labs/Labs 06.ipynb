{
 "cells": [
  {
   "cell_type": "markdown",
   "id": "e49a12d6",
   "metadata": {},
   "source": [
    "# Laboratorio 6"
   ]
  },
  {
   "cell_type": "markdown",
   "id": "dab53f72",
   "metadata": {},
   "source": [
    "### Problema 1\n",
    "\n",
    "Un palíndrome es una palabra o frase que se puede leer igual de derecha a izquierda o de izquierda a derecha, por ejemplo, la frase “amor a roma” es palíndrome. Escriba una función que determine si una palabra o frase ingresada es palíndrome.\n",
    "\n",
    "<ins>**Entradas**:</ins> La  ́unica entrada a la función es un string conteniendo una palabra o frase.\n",
    "\n",
    "<ins>**Salidas**:</ins> La  ́unica salida de la función es True si el string ingresado contiene una palabra o frase palíndrome, de lo contrario la función debe retornar False"
   ]
  },
  {
   "cell_type": "code",
   "execution_count": null,
   "id": "a6b63add",
   "metadata": {},
   "outputs": [],
   "source": [
    "def es_palindromo(frase):\n",
    "    # Convertir la frase a minúsculas y eliminar espacios\n",
    "    frase = frase.replace(\" \", \"\").lower()\n",
    "    \n",
    "    # Verificar si la frase es igual a su reverso\n",
    "    return frase == frase[::-1]\n",
    "\n",
    "frase = input(\"Introduce una frase: \")\n",
    "\n",
    "# Comprobar si la frase es un palíndromo\n",
    "if es_palindromo(frase):\n",
    "    print(f\"La frase '{frase}' es un palíndromo.\")\n",
    "else:\n",
    "    print(f\"La frase '{frase}' no es un palíndromo.\")"
   ]
  },
  {
   "cell_type": "markdown",
   "id": "a346cb37",
   "metadata": {},
   "source": [
    "#### Explicación de la función\n",
    "\n",
    "La función **es_palindromo** determina si una frase es un palíndromo, es decir, si se lee igual de izquierda a derecha que de derecha a izquierda, ignorando mayúsculas y espacios.\n",
    "\n",
    "Primero, la función toma la cadena de entrada frase y la transforma: elimina todos los espacios usando **replace(\" \", \"\")** y convierte todos los caracteres a minúsculas con **.lower()**. Esto asegura que diferencias en mayúsculas o espacios no afecten la comparación.\n",
    "\n",
    "Luego, compara la frase procesada con su versión invertida **(frase[::-1])**. Si ambas son iguales, la función retorna True, indicando que la frase es un palíndromo; de lo contrario, retorna False. Esta técnica es eficiente y fácil de entender, pero no elimina signos de puntuación ni otros caracteres especiales, lo cual podría ser relevante si se quiere una comprobación más estricta."
   ]
  },
  {
   "cell_type": "markdown",
   "id": "2ed94202",
   "metadata": {},
   "source": [
    "### Problema 2\n",
    "\n",
    "Un capicúa es un número entero que se puede leer igual de derecha a izquierda que de izquierda a derecha, por ejemplo, 1234321 es capicúa. Escriba una función que determine si un número entero es capicúa. Utilice la función para detectar palíndromes del ejercicio anterior.\n",
    "\n",
    "<ins>**Entradas**:</ins> La  ́unica entrada a la función es un número entero positivo.\n",
    "\n",
    "<ins>**Salidas**</ins>: La  ́unica salida de la fucnci ́on es True si el número ingresado es capicúa, de lo contrario la función debe retornar False."
   ]
  },
  {
   "cell_type": "code",
   "execution_count": null,
   "id": "171a0a2a",
   "metadata": {},
   "outputs": [],
   "source": [
    "#Esta función determina si un número entero es capicúa.\n",
    "def capicua(numero):\n",
    "    # Convertir el número a cadena para facilitar la comparación\n",
    "    numero_str = str(numero)\n",
    "    \n",
    "    # Comparar la cadena con su reverso\n",
    "    return numero_str == numero_str[::-1]\n",
    "\n",
    "numero = int(input(\"Ingrese un número entero positivo: \"))\n",
    "\n",
    "# Validar que el número sea positivo\n",
    "while True:\n",
    "    if numero > 0:\n",
    "        break\n",
    "    else:\n",
    "        print(\"Por favor, ingrese un número entero positivo.\")\n",
    "        numero = int(input(\"Ingrese un número entero positivo: \"))\n",
    "\n",
    "\n",
    "# Verificar si el número es capicúa\n",
    "if capicua(numero):\n",
    "    print(f\"{numero} es capicúa.\")\n",
    "else:\n",
    "    print(f\"{numero} no es capicúa.\")"
   ]
  },
  {
   "cell_type": "markdown",
   "id": "cc3de87b",
   "metadata": {},
   "source": [
    "#### Explicación de la función\n",
    "\n",
    "Esta función llamada **capicua** determina si un número es capicúa, es decir, si se lee igual de izquierda a derecha que de derecha a izquierda. Para lograr esto, primero convierte el número recibido como argumento en una cadena de texto usando **str(numero)**. Esto facilita la comparación, ya que las cadenas pueden manipularse fácilmente en Python.\n",
    "\n",
    "Luego, la función compara la cadena original con su versión invertida. La inversión se realiza utilizando la notación de **slicing [::-1]**, que crea una nueva cadena con los caracteres en orden inverso. Si ambas cadenas son iguales, significa que el número es capicúa y la función retorna True; de lo contrario, retorna False.\n",
    "\n",
    "Un aspecto interesante de este enfoque es que evita la necesidad de trabajar con operaciones matemáticas para invertir el número, haciendo el código más simple y legible. Además, funciona para cualquier número entero, aunque si el número es negativo, el signo menos se tendrá en cuenta en la comparación, por lo que los números negativos nunca serán considerados capicúas con esta implementación."
   ]
  },
  {
   "cell_type": "markdown",
   "id": "53ebf8ab",
   "metadata": {},
   "source": [
    "### Problema 3\n",
    "\n",
    "Cuando un programa Python requiere que se le ingrese un número entero positivo, muchas veces al poner en su entrada:"
   ]
  },
  {
   "cell_type": "code",
   "execution_count": null,
   "id": "04e1c349",
   "metadata": {},
   "outputs": [],
   "source": [
    "n = int(input(\"Introduce un número entero: \"))"
   ]
  },
  {
   "cell_type": "markdown",
   "id": "b1df720b",
   "metadata": {},
   "source": [
    "el programa falla cuando por error el usuario digita algún símbolo distinto de un dígito. Por tanto, se pide escriba una función que lea un string y que se asegure que todos los símbolos ingresados son dígitos.\n",
    "\n",
    "<ins>**Entradas**:</ins> La  ́unica entrada a la función es una string de símbolos posiblemente lleno con dígitos.\n",
    "\n",
    "<ins>**Salidas**:</ins> La salida de la función es True si la cadena de entrada esta compuesta sólo de dígitos y False de lo contrario.\n",
    "\n",
    "**Observación**: En el programa principal, si la cadena de entrada esta compuesta por algún símbolo que no es un dígito se debe marcar el error y reingresar la cadena."
   ]
  },
  {
   "cell_type": "code",
   "execution_count": null,
   "id": "0a2a2b8c",
   "metadata": {},
   "outputs": [],
   "source": [
    "def es_digito(cadena):\n",
    "    \"\"\"\n",
    "    Verifica si la cadena de entrada está compuesta solo por dígitos.\n",
    "\n",
    "    Argumentos:\n",
    "        cadena (str): La cadena a verificar.\n",
    "\n",
    "    Returns:\n",
    "        bool: True si la cadena contiene solo dígitos, False de lo contrario.\n",
    "    \"\"\"\n",
    "    for caracter in cadena:\n",
    "        if not caracter.isdigit():\n",
    "            return False\n",
    "    return True\n",
    "\n",
    "def main():\n",
    "    \"\"\"\n",
    "    Función principal que solicita al usuario una cadena y verifica si contiene solo dígitos.\n",
    "    \"\"\"\n",
    "    while True:\n",
    "        cadena = input(\"Introduce una cadena: \")\n",
    "        if es_digito(cadena):\n",
    "            print(\"La cadena contiene solo dígitos.\")\n",
    "            break\n",
    "        else:\n",
    "            print(\"Error: La cadena contiene símbolos no válidos. Inténtalo de nuevo.\")\n",
    "\n",
    "if __name__ == \"__main__\":\n",
    "    main()\n",
    "# En este código, la función `es_digito` verifica si todos los caracteres de la cadena son dígitos."
   ]
  },
  {
   "cell_type": "markdown",
   "id": "612b2118",
   "metadata": {},
   "source": [
    "### Explicación del código\n",
    "\n",
    "El código presentado contiene dos funciones principales: **es_digito** y **main**. La función **es_digito** recibe una cadena como argumento y verifica si todos sus caracteres son dígitos. Para ello, recorre cada carácter de la cadena y utiliza el método **.isdigit()**, que retorna True si el carácter es un dígito y False en caso contrario. Si encuentra algún carácter que no sea un dígito, la función retorna inmediatamente False. Si termina de recorrer toda la cadena sin encontrar caracteres no numéricos, retorna True.\n",
    "\n",
    "La función **main** es la encargada de interactuar con el usuario. Dentro de un ciclo while True, solicita al usuario que introduzca una cadena. Luego, utiliza la función **es_digito** para comprobar si la cadena ingresada está compuesta únicamente por dígitos. Si la verificación es positiva, imprime un mensaje indicando que la cadena es válida y termina el ciclo. Si la cadena contiene algún símbolo no válido, muestra un mensaje de error y vuelve a solicitar la entrada al usuario. Esta estructura garantiza que solo se acepten cadenas formadas exclusivamente por dígitos antes de continuar con el programa.\n",
    "\n",
    "Finalmente, el bloque **if __name__ == \"__main__\":** asegura que la función **main** solo se ejecute cuando el archivo se ejecuta directamente, y no cuando se importa como módulo en otro programa. Esta es una práctica común en Python para organizar el flujo de ejecución de los scripts."
   ]
  }
 ],
 "metadata": {
  "kernelspec": {
   "display_name": "base",
   "language": "python",
   "name": "python3"
  },
  "language_info": {
   "name": "python",
   "version": "3.12.7"
  }
 },
 "nbformat": 4,
 "nbformat_minor": 5
}
