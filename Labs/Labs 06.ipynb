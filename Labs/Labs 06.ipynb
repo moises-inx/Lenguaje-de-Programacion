{
 "cells": [
  {
   "cell_type": "markdown",
   "id": "e49a12d6",
   "metadata": {},
   "source": [
    "# Laboratorio 6"
   ]
  },
  {
   "cell_type": "markdown",
   "id": "dab53f72",
   "metadata": {},
   "source": [
    "### Problema 1\n",
    "\n",
    "Un palíndrome es una palabra o frase que se puede leer igual de derecha a izquierda o de izquierda a derecha, por ejemplo, la frase “amor a roma” es palíndrome. Escriba una función que determine si una palabra o frase ingresada es palíndrome.\n",
    "\n",
    "<ins>**Entradas**:</ins> La  ́unica entrada a la función es un string conteniendo una palabra o frase.\n",
    "\n",
    "<ins>**Salidas**:</ins> La  ́unica salida de la función es True si el string ingresado contiene una palabra o frase palíndrome, de lo contrario la función debe retornar False"
   ]
  },
  {
   "cell_type": "code",
   "execution_count": null,
   "id": "a6b63add",
   "metadata": {},
   "outputs": [],
   "source": [
    "def es_palindromo(frase):\n",
    "    # Convertir la frase a minúsculas y eliminar espacios\n",
    "    frase = frase.replace(\" \", \"\").lower()\n",
    "    \n",
    "    # Verificar si la frase es igual a su reverso\n",
    "    return frase == frase[::-1]\n",
    "\n",
    "frase = input(\"Introduce una frase: \")\n",
    "\n",
    "# Comprobar si la frase es un palíndromo\n",
    "if es_palindromo(frase):\n",
    "    print(f\"La frase '{frase}' es un palíndromo.\")\n",
    "else:\n",
    "    print(f\"La frase '{frase}' no es un palíndromo.\")"
   ]
  },
  {
   "cell_type": "markdown",
   "id": "a346cb37",
   "metadata": {},
   "source": [
    "#### Explicación de la función\n",
    "\n",
    "La función **es_palindromo** determina si una frase es un palíndromo, es decir, si se lee igual de izquierda a derecha que de derecha a izquierda, ignorando mayúsculas y espacios.\n",
    "\n",
    "Primero, la función toma la cadena de entrada frase y la transforma: elimina todos los espacios usando **replace(\" \", \"\")** y convierte todos los caracteres a minúsculas con **.lower()**. Esto asegura que diferencias en mayúsculas o espacios no afecten la comparación.\n",
    "\n",
    "Luego, compara la frase procesada con su versión invertida **(frase[::-1])**. Si ambas son iguales, la función retorna True, indicando que la frase es un palíndromo; de lo contrario, retorna False. Esta técnica es eficiente y fácil de entender, pero no elimina signos de puntuación ni otros caracteres especiales, lo cual podría ser relevante si se quiere una comprobación más estricta."
   ]
  },
  {
   "cell_type": "markdown",
   "id": "2ed94202",
   "metadata": {},
   "source": [
    "### Problema 2\n",
    "\n",
    "Un capicúa es un número entero que se puede leer igual de derecha a izquierda que de izquierda a derecha, por ejemplo, 1234321 es capicúa. Escriba una función que determine si un número entero es capicúa. Utilice la función para detectar palíndromes del ejercicio anterior.\n",
    "\n",
    "<ins>**Entradas**:</ins> La  ́unica entrada a la función es un número entero positivo.\n",
    "\n",
    "<ins>**Salidas**</ins>: La  ́unica salida de la fucnci ́on es True si el número ingresado es capicúa, de lo contrario la función debe retornar False."
   ]
  },
  {
   "cell_type": "code",
   "execution_count": null,
   "id": "171a0a2a",
   "metadata": {},
   "outputs": [],
   "source": [
    "#Esta función determina si un número entero es capicúa.\n",
    "def capicua(numero):\n",
    "    # Convertir el número a cadena para facilitar la comparación\n",
    "    numero_str = str(numero)\n",
    "    \n",
    "    # Comparar la cadena con su reverso\n",
    "    return numero_str == numero_str[::-1]\n",
    "\n",
    "numero = int(input(\"Ingrese un número entero positivo: \"))\n",
    "\n",
    "# Validar que el número sea positivo\n",
    "while True:\n",
    "    if numero > 0:\n",
    "        break\n",
    "    else:\n",
    "        print(\"Por favor, ingrese un número entero positivo.\")\n",
    "        numero = int(input(\"Ingrese un número entero positivo: \"))\n",
    "\n",
    "\n",
    "# Verificar si el número es capicúa\n",
    "if capicua(numero):\n",
    "    print(f\"{numero} es capicúa.\")\n",
    "else:\n",
    "    print(f\"{numero} no es capicúa.\")"
   ]
  },
  {
   "cell_type": "markdown",
   "id": "cc3de87b",
   "metadata": {},
   "source": [
    "#### Explicación de la función\n",
    "\n",
    "Esta función llamada **capicua** determina si un número es capicúa, es decir, si se lee igual de izquierda a derecha que de derecha a izquierda. Para lograr esto, primero convierte el número recibido como argumento en una cadena de texto usando **str(numero)**. Esto facilita la comparación, ya que las cadenas pueden manipularse fácilmente en Python.\n",
    "\n",
    "Luego, la función compara la cadena original con su versión invertida. La inversión se realiza utilizando la notación de **slicing [::-1]**, que crea una nueva cadena con los caracteres en orden inverso. Si ambas cadenas son iguales, significa que el número es capicúa y la función retorna True; de lo contrario, retorna False.\n",
    "\n",
    "Un aspecto interesante de este enfoque es que evita la necesidad de trabajar con operaciones matemáticas para invertir el número, haciendo el código más simple y legible. Además, funciona para cualquier número entero, aunque si el número es negativo, el signo menos se tendrá en cuenta en la comparación, por lo que los números negativos nunca serán considerados capicúas con esta implementación."
   ]
  },
  {
   "cell_type": "markdown",
   "id": "53ebf8ab",
   "metadata": {},
   "source": [
    "### Problema 3\n",
    "\n",
    "Cuando un programa Python requiere que se le ingrese un número entero positivo, muchas veces al poner en su entrada:"
   ]
  },
  {
   "cell_type": "code",
   "execution_count": null,
   "id": "04e1c349",
   "metadata": {},
   "outputs": [],
   "source": [
    "n = int(input(\"Introduce un número entero: \"))"
   ]
  },
  {
   "cell_type": "markdown",
   "id": "b1df720b",
   "metadata": {},
   "source": [
    "el programa falla cuando por error el usuario digita algún símbolo distinto de un dígito. Por tanto, se pide escriba una función que lea un string y que se asegure que todos los símbolos ingresados son dígitos.\n",
    "\n",
    "<ins>**Entradas**:</ins> La  ́unica entrada a la función es una string de símbolos posiblemente lleno con dígitos.\n",
    "\n",
    "<ins>**Salidas**:</ins> La salida de la función es True si la cadena de entrada esta compuesta sólo de dígitos y False de lo contrario.\n",
    "\n",
    "**Observación**: En el programa principal, si la cadena de entrada esta compuesta por algún símbolo que no es un dígito se debe marcar el error y reingresar la cadena."
   ]
  },
  {
   "cell_type": "code",
   "execution_count": null,
   "id": "0a2a2b8c",
   "metadata": {},
   "outputs": [],
   "source": [
    "def es_digito(cadena):\n",
    "    \"\"\"\n",
    "    Verifica si la cadena de entrada está compuesta solo por dígitos.\n",
    "\n",
    "    Argumentos:\n",
    "        cadena (str): La cadena a verificar.\n",
    "\n",
    "    Returns:\n",
    "        bool: True si la cadena contiene solo dígitos, False de lo contrario.\n",
    "    \"\"\"\n",
    "    for caracter in cadena:\n",
    "        if not caracter.isdigit():\n",
    "            return False\n",
    "    return True\n",
    "\n",
    "def main():\n",
    "    \"\"\"\n",
    "    Función principal que solicita al usuario una cadena y verifica si contiene solo dígitos.\n",
    "    \"\"\"\n",
    "    while True:\n",
    "        cadena = input(\"Introduce una cadena: \")\n",
    "        if es_digito(cadena):\n",
    "            print(\"La cadena contiene solo dígitos.\")\n",
    "            break\n",
    "        else:\n",
    "            print(\"Error: La cadena contiene símbolos no válidos. Inténtalo de nuevo.\")\n",
    "\n",
    "if __name__ == \"__main__\":\n",
    "    main()\n",
    "# En este código, la función `es_digito` verifica si todos los caracteres de la cadena son dígitos."
   ]
  },
  {
   "cell_type": "markdown",
   "id": "612b2118",
   "metadata": {},
   "source": [
    "### Explicación del código\n",
    "\n",
    "El código presentado contiene dos funciones principales: **es_digito** y **main**. La función **es_digito** recibe una cadena como argumento y verifica si todos sus caracteres son dígitos. Para ello, recorre cada carácter de la cadena y utiliza el método **.isdigit()**, que retorna True si el carácter es un dígito y False en caso contrario. Si encuentra algún carácter que no sea un dígito, la función retorna inmediatamente False. Si termina de recorrer toda la cadena sin encontrar caracteres no numéricos, retorna True.\n",
    "\n",
    "La función **main** es la encargada de interactuar con el usuario. Dentro de un ciclo while True, solicita al usuario que introduzca una cadena. Luego, utiliza la función **es_digito** para comprobar si la cadena ingresada está compuesta únicamente por dígitos. Si la verificación es positiva, imprime un mensaje indicando que la cadena es válida y termina el ciclo. Si la cadena contiene algún símbolo no válido, muestra un mensaje de error y vuelve a solicitar la entrada al usuario. Esta estructura garantiza que solo se acepten cadenas formadas exclusivamente por dígitos antes de continuar con el programa.\n",
    "\n",
    "Finalmente, el bloque **if __name__ == \"__main__\":** asegura que la función **main** solo se ejecute cuando el archivo se ejecuta directamente, y no cuando se importa como módulo en otro programa. Esta es una práctica común en Python para organizar el flujo de ejecución de los scripts."
   ]
  },
  {
   "cell_type": "markdown",
   "id": "7a9dc0bc",
   "metadata": {},
   "source": [
    "### Problema 4\n",
    "\n",
    "Modifique el programa anterior para que se pueda ingresar cualquier número entero (positivos, cero y/o negativos)."
   ]
  },
  {
   "cell_type": "code",
   "execution_count": null,
   "id": "52a9994a",
   "metadata": {},
   "outputs": [],
   "source": [
    "def es_digito(cadena):\n",
    "    \"\"\"\n",
    "    Verifica si la cadena de entrada está compuesta solo por dígitos o es un número negativo.\n",
    "\n",
    "    Argumento:\n",
    "        cadena (str): La cadena a verificar.\n",
    "\n",
    "    Returns:\n",
    "        bool: True si la cadena contiene solo dígitos o es un número negativo, False de lo contrario.\n",
    "    \"\"\"\n",
    "    if cadena[0] == '-':\n",
    "        return cadena[1:].isdigit()\n",
    "    return cadena.isdigit()\n",
    "def main():\n",
    "    \"\"\"\n",
    "    Función principal que solicita al usuario una cadena y verifica si contiene solo dígitos o es un número negativo.\n",
    "    \"\"\"\n",
    "    while True:\n",
    "        cadena = input(\"Introduce una cadena: \")\n",
    "        if es_digito(cadena):\n",
    "            print(\"La cadena contiene solo dígitos o es un número negativo.\")\n",
    "            break\n",
    "        else:\n",
    "            print(\"Error: La cadena contiene símbolos no válidos. Inténtalo de nuevo.\")\n",
    "if __name__ == \"__main__\":\n",
    "    main()"
   ]
  },
  {
   "cell_type": "markdown",
   "id": "827f7c4a",
   "metadata": {},
   "source": [
    "#### Explicación:\n",
    "\n",
    "El código presentado permite validar si una cadena ingresada por el usuario representa un número entero, ya sea positivo, negativo o cero. La función **es_digito** verifica si la cadena está compuesta únicamente por dígitos o si corresponde a un número negativo. Para ello, primero revisa si el primer carácter de la cadena es un signo menos (-). Si es así, evalúa si el resto de la cadena (excluyendo el signo) contiene solo dígitos utilizando el método .**isdigit()**. Si la cadena no comienza con un signo menos, simplemente verifica que todos los caracteres sean dígitos.\n",
    "\n",
    "La función main se encarga de interactuar con el usuario. Dentro de un ciclo while True, solicita al usuario que introduzca una cadena. Luego, utiliza la función **es_digito** para comprobar si la entrada es válida. Si la cadena cumple con los requisitos (es un número entero válido), imprime un mensaje de confirmación y termina el ciclo. Si la cadena contiene símbolos no válidos, muestra un mensaje de error y vuelve a solicitar la entrada. De esta manera, el programa asegura que solo se acepten cadenas que representen números enteros antes de continuar.\n",
    "\n",
    "Finalmente, el bloque **if __name__ == \"__main__\":** garantiza que la función main solo se ejecute cuando el archivo se ejecuta directamente, y no cuando se importa como módulo en otro programa. Esto es una práctica común en Python para controlar el flujo de ejecución de los scripts."
   ]
  },
  {
   "cell_type": "markdown",
   "id": "1669273f",
   "metadata": {},
   "source": [
    "### Problema 5\n",
    "\n",
    "Se dice que existen personas con una capacidad excepcional que les permite leer una texto aún cuando se le haya quitado intencionalmente sus consonantes. Por ejemplo:\n",
    "\n",
    "A * o ** i* ua * i ́o* U*. * o ** ́a * ee * * a * i* uie ** e ** a * e * i * * o ** o * a ** e *.\n",
    "\n",
    "Para probarlo, se le pide que escriba una fúnción en Python que reciba una frase y genere la frase en que las consonantes han sido reemplazadas por un símbolo ‘*’.\n",
    "\n",
    "<ins>**Entradas**:</ins> La  ́unica entrada a la fúnción es una string de símbolos con una frase compuesta de sólo letras y espacios.\n",
    "\n",
    "<ins>**Salidas**:</ins> La salida de la fúnción es un string igual al de la entrada pero sin las consonantes"
   ]
  },
  {
   "cell_type": "code",
   "execution_count": null,
   "id": "a5e71b08",
   "metadata": {},
   "outputs": [],
   "source": [
    "def completar_frases(frase):\n",
    "    \"\"\"\n",
    "    Esta función recibe una frase y devuelve la misma frase pero con las consonantes reemplazadas por '*'.\n",
    "    \"\"\"\n",
    "    # Definimos las consonantes\n",
    "    consonantes = \"bcdfghjklmnpqrstvwxyzBCDFGHJKLMNPQRSTVWXYZ\"\n",
    "    \n",
    "    # Reemplazamos las consonantes por '*'\n",
    "    for c in consonantes:\n",
    "        frase = frase.replace(c, \"*\")\n",
    "    \n",
    "    return frase\n",
    "\n",
    "frase= input(\"Ingrese una frase: \")\n",
    "print(completar_frases(frase))"
   ]
  },
  {
   "cell_type": "markdown",
   "id": "097c2814",
   "metadata": {},
   "source": [
    "#### Explicación de la función\n",
    "\n",
    "La función **completar_frases** toma como entrada una cadena de texto llamada frase y devuelve una nueva versión de esa frase en la que todas las consonantes han sido reemplazadas por el símbolo *. Para lograr esto, primero define una cadena llamada consonantes que contiene todas las letras consonantes del alfabeto, tanto en minúsculas como en mayúsculas.\n",
    "\n",
    "Luego, la función recorre cada carácter c en la cadena de consonantes y utiliza el método **replace** para sustituir todas las apariciones de esa consonante en la frase por el símbolo *. Este proceso se repite para cada consonante, asegurando que todas sean reemplazadas, sin importar si están en mayúscula o minúscula.\n",
    "\n",
    "Finalmente, la función retorna la frase modificada. Es importante notar que las vocales y los espacios permanecen sin cambios, lo que permite que la frase siga siendo parcialmente legible, aunque las consonantes hayan sido ocultadas. Esta técnica es sencilla y efectiva para transformar frases de acuerdo al objetivo planteado."
   ]
  },
  {
   "cell_type": "markdown",
   "id": "82d930ac",
   "metadata": {},
   "source": [
    "### Problema 6\n",
    "\n",
    "Los problemas de secuencias numéricas son clásicos en las matemáticas recreativas. La secuencia de n ́umeros enteros “look and say” fue introducida y analizada por el matemático John Conway. Esta secuencia tiene la forma: $1, 11, 21, 1211, 111221, 312211, \\dots $ Su construcción es sencilla, cada término describe al anterior:\n",
    "\n",
    "+ $1$ contiene “un uno”, o sea, $11$.\n",
    "+ $11$ contiene “dos unos”, o sea, $21$.\n",
    "+ $21$ contiene “un dos y un uno”, o sea, $1211$.\n",
    "+ $1211$ contiene “un uno, un dos y dos unos”, o sea, $111221$.\n",
    "+ $111221$ contiene “tres unos, dos doses y un uno”, o sea, $312211$; y así se puede continuar sucesivamente.\n",
    "\n",
    "En esta secuencia solo se emplean los número $1$, $2$, y $3$. Otra curiosidad de esta secuencia observada por Conway es que muestra similitud formal con el comportamiento de los elementos químicos. También es curioso que el tamaño de cada secuencia es $1,303577 \\dots$(constante de Conway) veces mayor que la anterior.\n",
    "\n",
    "Pero, ¿qué ocurre si en lugar de iniciar con un $1$ se inicia con otros valores?\n",
    "\n",
    "Escriba un programa en Python que dado un valor $n (n > 0)$, determine $n$ términos de la secuencia “look and say” iniciándose en un valor inicial $v (v > 0)$."
   ]
  },
  {
   "cell_type": "code",
   "execution_count": null,
   "id": "b0b11065",
   "metadata": {},
   "outputs": [],
   "source": [
    "def look_and_say(n, v):\n",
    "    \"\"\"\n",
    "    Genera la secuencia \"look and say\" a partir de un valor inicial v y devuelve los primeros n términos de la secuencia.\n",
    "    \"\"\"\n",
    "    # Inicializar la secuencia con el valor inicial\n",
    "    sequence = [str(v)]\n",
    "    \n",
    "    # Generar los términos de la secuencia\n",
    "    for _ in range(1, n):\n",
    "        current_term = sequence[-1]\n",
    "        next_term = \"\"\n",
    "        count = 1\n",
    "        \n",
    "        # Contar los dígitos consecutivos\n",
    "        for i in range(1, len(current_term)):\n",
    "            if current_term[i] == current_term[i - 1]:\n",
    "                count += 1\n",
    "            else:\n",
    "                next_term += str(count) + current_term[i - 1]\n",
    "                count = 1\n",
    "        \n",
    "        # Agregar el último grupo de dígitos\n",
    "        next_term += str(count) + current_term[-1]\n",
    "        \n",
    "        # Agregar el nuevo término a la secuencia\n",
    "        sequence.append(next_term)\n",
    "    \n",
    "    return sequence\n",
    "\n",
    "# Se piden los valores iniciales al usuario\n",
    "print(\"Bienvenido a la secuencia 'look and say'\")\n",
    "valor_inicial = int(input(\"Ingrese el valor inicial (v > 0): \"))\n",
    "numumero_de_terminos = int(input(\"Ingrese el número de términos (n > 0): \"))\n",
    "\n",
    "# Validar que los valores sean mayores que 0\n",
    "while True:\n",
    "    if valor_inicial <= 0:\n",
    "        print(\"El valor inicial debe ser mayor que 0.\")\n",
    "        valor_inicial = int(input(\"Ingrese el valor inicial (v > 0): \"))\n",
    "    if numumero_de_terminos <= 0:\n",
    "        print(\"El número de términos debe ser mayor que 0.\")\n",
    "        numumero_de_terminos = int(input( \"Ingrese el número de términos (n > 0): \"))\n",
    "    if valor_inicial > 0 and numumero_de_terminos > 0:\n",
    "        break\n",
    "    else:\n",
    "        print(\"Por favor, ingrese valores válidos (v > 0 y n > 0).\")\n",
    "        valor_inicial = int(input(\"Ingrese el valor inicial (v > 0): \"))\n",
    "        numumero_de_terminos = int(input(\"Ingrese el número de términos (n > 0): \"))\n",
    "\n",
    "# Generar la secuencia\n",
    "secuencia = look_and_say(numumero_de_terminos, valor_inicial)\n",
    "print(\"Los primeros\", numumero_de_terminos, \"términos de la secuencia 'look and say' son:\")\n",
    "for i, term in enumerate(secuencia):\n",
    "    print(f\"Término {i + 1}: {term}\")"
   ]
  },
  {
   "cell_type": "markdown",
   "id": "9057149d",
   "metadata": {},
   "source": [
    "#### Explicación de código\n",
    "\n",
    "El código implementa la generación de la famosa secuencia “look and say” a partir de un valor inicial y una cantidad de términos especificada por el usuario. La función **look_and_say(n, v)** recibe dos parámetros: **n**, que indica cuántos términos de la secuencia se deben generar, y **v**, el valor inicial de la secuencia. El proceso comienza almacenando el valor inicial (convertido a cadena) en una lista llamada **sequence**.\n",
    "\n",
    "Para construir la secuencia, el código utiliza un ciclo que se repite **n-1** veces. En cada iteración, toma el último término generado **(current_term)** y lo analiza para construir el siguiente término **(next_term)**. El análisis consiste en contar cuántos dígitos consecutivos iguales aparecen y, por cada grupo, agregar al nuevo término la cantidad seguida del dígito correspondiente. Este proceso se realiza recorriendo la cadena y comparando cada dígito con el anterior. Al finalizar el recorrido, se agrega el último grupo de dígitos contados. El nuevo término se añade a la lista de la secuencia.\n",
    "\n",
    "En la parte principal del código, se solicita al usuario que ingrese el valor inicial y el número de términos, asegurándose mediante un ciclo **while** que ambos sean mayores que cero. Si los valores no cumplen la condición, se solicita nuevamente la entrada. Finalmente, se genera la secuencia usando la función y se imprime cada término con su respectivo número de orden.\n",
    "\n",
    "Este enfoque permite explorar la secuencia “look and say” desde cualquier valor inicial positivo y para cualquier cantidad de términos, mostrando cómo cada término describe verbalmente al anterior. Un detalle importante es que la función trabaja con cadenas, lo que facilita el análisis y la construcción de los términos, ya que la secuencia depende de la agrupación de dígitos y no de operaciones matemáticas convencionales."
   ]
  }
 ],
 "metadata": {
  "kernelspec": {
   "display_name": "base",
   "language": "python",
   "name": "python3"
  },
  "language_info": {
   "name": "python",
   "version": "3.12.7"
  }
 },
 "nbformat": 4,
 "nbformat_minor": 5
}
